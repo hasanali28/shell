{
 "cells": [
  {
   "cell_type": "markdown",
   "metadata": {
    "_uuid": "9d7057b0f4ce0d2bb50bfea37c29ce0927cdf53f"
   },
   "source": [
    "> **Jupyter slideshow:** This notebook can be displayed as slides. To view it as a slideshow in your browser, run the following cell:\n",
    "\n",
    "> `> jupyter nbconvert [this_notebook.ipynb] --to slides --post serve`\n",
    " \n",
    "> To toggle off the slideshow cell formatting, click the `CellToolbar` button, then `View > Cell Toolbar > None`."
   ]
  },
  {
   "cell_type": "markdown",
   "metadata": {},
   "source": [
    "<img src=\"../images/shell-logo.png\" width=\"50\" height=\"50\" align=\"right\"/>\n",
    "\n",
    "<img src=\"../images/di.png\" width=\"50\" height=\"50\" align=\"right\"/>\n",
    "\n",
    "# Feature Engineering"
   ]
  },
  {
   "cell_type": "code",
   "execution_count": 17,
   "metadata": {},
   "outputs": [],
   "source": [
    "# ! jupyter nbconvert Python_intro.ipynb --to slides --post serve"
   ]
  },
  {
   "cell_type": "markdown",
   "metadata": {},
   "source": [
    "## Learning Objectives\n",
    "*In this lesson, we will go over the following:*\n",
    "\n",
    "- Introduction to Feature Engineering.\n",
    "- Application of Feature Engineering\n",
    "- Feature Engineering with Categorical Columns.\n",
    "- Feature Engineering with Numerical Columns.\n",
    "- Feaure Engineering with Business and Domain Understanding."
   ]
  },
  {
   "cell_type": "markdown",
   "metadata": {
    "_uuid": "9d7057b0f4ce0d2bb50bfea37c29ce0927cdf53f"
   },
   "source": [
    "## Introduction: Manual Feature Engineering\n",
    "\n",
    "In this notebook, we will explore making features by hand for a Dataset.\n",
    "\n",
    "- Manual feature engineering can be a tedious process (which is why we use automated feature engineering with featuretools!) and often relies on domain expertise. \n",
    "\n",
    "- Since we are limited to domain knowledge of diffirent fields and what makes a person likely to default, we will instead concentrate of getting as much info as possible into the final training dataframe. \n",
    "\n",
    "- The idea is that the model will then pick up on which features are important rather than us having to decide that. Basically, our approach is to make as many features as possible and then give them all to the model to use! Later, we can perform feature reduction using the feature importances from the model or other techniques such as PCA. "
   ]
  },
  {
   "cell_type": "code",
   "execution_count": 177,
   "metadata": {
    "_cell_guid": "b1076dfc-b9ad-4769-8c92-a6c4dae69d19",
    "_uuid": "8f2839f25d086af736a60e9eeb907d3b93b6e0e5"
   },
   "outputs": [],
   "source": [
    "# pandas and numpy for data manipulation\n",
    "import pandas as pd\n",
    "import numpy as np\n",
    "\n",
    "# matplotlib and seaborn for plotting\n",
    "import plotly.express as px\n",
    "import matplotlib.pyplot as plt\n",
    "import seaborn as sns\n",
    "\n",
    "# Suppress warnings from pandas\n",
    "import warnings\n",
    "warnings.filterwarnings('ignore')\n",
    "\n",
    "pd.set_option('display.max_columns', 100)"
   ]
  },
  {
   "cell_type": "markdown",
   "metadata": {},
   "source": [
    "## Ideal Data Science Pipeline\n",
    "\n",
    "1. Missing Value Analysis\n",
    "2. Outlier Analysis\n",
    "3. EDA ( Exploratory Data Analysis ) \n",
    "4. Feature Engineering\n",
    "5. Feature Selection\n",
    "6. Preparing Data for ML\n",
    "   - Feature Encoding\n",
    "   - Scaling/Normalisation\n",
    "   - DImensionality Reduction\n",
    "   - Train Test Split\n",
    "   \n",
    "7. Training Machine Learning Models\n",
    "8. Evaluating Models\n",
    "9. Iterating/Improving"
   ]
  },
  {
   "cell_type": "markdown",
   "metadata": {},
   "source": [
    "dataset.json"
   ]
  },
  {
   "cell_type": "code",
   "execution_count": 20,
   "metadata": {
    "_uuid": "94bdea7d6198e5cf61f073c3c4d0386d5961b564"
   },
   "outputs": [],
   "source": [
    "filepath = \"../data/dataset.json\""
   ]
  },
  {
   "cell_type": "code",
   "execution_count": 124,
   "metadata": {},
   "outputs": [],
   "source": [
    "df = pd.read_json( filepath )"
   ]
  },
  {
   "cell_type": "code",
   "execution_count": 125,
   "metadata": {},
   "outputs": [
    {
     "data": {
      "text/html": [
       "<div>\n",
       "<style scoped>\n",
       "    .dataframe tbody tr th:only-of-type {\n",
       "        vertical-align: middle;\n",
       "    }\n",
       "\n",
       "    .dataframe tbody tr th {\n",
       "        vertical-align: top;\n",
       "    }\n",
       "\n",
       "    .dataframe thead th {\n",
       "        text-align: right;\n",
       "    }\n",
       "</style>\n",
       "<table border=\"1\" class=\"dataframe\">\n",
       "  <thead>\n",
       "    <tr style=\"text-align: right;\">\n",
       "      <th></th>\n",
       "      <th>browser</th>\n",
       "      <th>os</th>\n",
       "      <th>locale</th>\n",
       "      <th>user_id</th>\n",
       "      <th>gender</th>\n",
       "      <th>location</th>\n",
       "      <th>sites</th>\n",
       "      <th>time</th>\n",
       "      <th>date</th>\n",
       "      <th>nSites</th>\n",
       "      <th>nUniqueSites</th>\n",
       "      <th>totalLenght</th>\n",
       "      <th>firstSite</th>\n",
       "      <th>City</th>\n",
       "      <th>Country</th>\n",
       "    </tr>\n",
       "  </thead>\n",
       "  <tbody>\n",
       "    <tr>\n",
       "      <th>0</th>\n",
       "      <td>Chrome</td>\n",
       "      <td>Windows 8</td>\n",
       "      <td>de-DE</td>\n",
       "      <td>164</td>\n",
       "      <td>m</td>\n",
       "      <td>Canada/Toronto</td>\n",
       "      <td>[{'site': 'lenta.ru', 'length': 296}, {'site':...</td>\n",
       "      <td>03:57:00</td>\n",
       "      <td>2016-08-14</td>\n",
       "      <td>14</td>\n",
       "      <td>12</td>\n",
       "      <td>1839</td>\n",
       "      <td>lenta.ru</td>\n",
       "      <td>Toronto</td>\n",
       "      <td>Canada</td>\n",
       "    </tr>\n",
       "    <tr>\n",
       "      <th>1</th>\n",
       "      <td>Chrome</td>\n",
       "      <td>Windows 10</td>\n",
       "      <td>pt-PT</td>\n",
       "      <td>99</td>\n",
       "      <td>f</td>\n",
       "      <td>Netherlands/Amsterdam</td>\n",
       "      <td>[{'site': 'windowsupdate.com', 'length': 56}, ...</td>\n",
       "      <td>13:52:00</td>\n",
       "      <td>2016-05-31</td>\n",
       "      <td>12</td>\n",
       "      <td>12</td>\n",
       "      <td>1839</td>\n",
       "      <td>windowsupdate.com</td>\n",
       "      <td>Amsterdam</td>\n",
       "      <td>Netherlands</td>\n",
       "    </tr>\n",
       "    <tr>\n",
       "      <th>2</th>\n",
       "      <td>Chrome</td>\n",
       "      <td>Windows 10</td>\n",
       "      <td>bg-BG</td>\n",
       "      <td>28</td>\n",
       "      <td>m</td>\n",
       "      <td>Brazil/Rio de Janeiro</td>\n",
       "      <td>[{'site': 'slack.com', 'length': 158}, {'site'...</td>\n",
       "      <td>17:40:00</td>\n",
       "      <td>2019-04-15</td>\n",
       "      <td>12</td>\n",
       "      <td>12</td>\n",
       "      <td>1839</td>\n",
       "      <td>slack.com</td>\n",
       "      <td>Rio de Janeiro</td>\n",
       "      <td>Brazil</td>\n",
       "    </tr>\n",
       "    <tr>\n",
       "      <th>3</th>\n",
       "      <td>Internet Explorer</td>\n",
       "      <td>Ubuntu</td>\n",
       "      <td>en-US</td>\n",
       "      <td>163</td>\n",
       "      <td>f</td>\n",
       "      <td>New Zealand/Auckland</td>\n",
       "      <td>[{'site': 'amazon.com', 'length': 168}, {'site...</td>\n",
       "      <td>20:23:00</td>\n",
       "      <td>2018-03-25</td>\n",
       "      <td>15</td>\n",
       "      <td>12</td>\n",
       "      <td>1839</td>\n",
       "      <td>amazon.com</td>\n",
       "      <td>Auckland</td>\n",
       "      <td>New Zealand</td>\n",
       "    </tr>\n",
       "    <tr>\n",
       "      <th>4</th>\n",
       "      <td>Firefox</td>\n",
       "      <td>Debian</td>\n",
       "      <td>ro-RO</td>\n",
       "      <td>177</td>\n",
       "      <td>f</td>\n",
       "      <td>New Zealand/Auckland</td>\n",
       "      <td>[{'site': 'vk.com', 'length': 43}, {'site': 'm...</td>\n",
       "      <td>01:10:00</td>\n",
       "      <td>2018-09-08</td>\n",
       "      <td>11</td>\n",
       "      <td>12</td>\n",
       "      <td>1839</td>\n",
       "      <td>vk.com</td>\n",
       "      <td>Auckland</td>\n",
       "      <td>New Zealand</td>\n",
       "    </tr>\n",
       "  </tbody>\n",
       "</table>\n",
       "</div>"
      ],
      "text/plain": [
       "             browser          os locale  user_id gender  \\\n",
       "0             Chrome   Windows 8  de-DE      164      m   \n",
       "1             Chrome  Windows 10  pt-PT       99      f   \n",
       "2             Chrome  Windows 10  bg-BG       28      m   \n",
       "3  Internet Explorer      Ubuntu  en-US      163      f   \n",
       "4            Firefox      Debian  ro-RO      177      f   \n",
       "\n",
       "                location                                              sites  \\\n",
       "0         Canada/Toronto  [{'site': 'lenta.ru', 'length': 296}, {'site':...   \n",
       "1  Netherlands/Amsterdam  [{'site': 'windowsupdate.com', 'length': 56}, ...   \n",
       "2  Brazil/Rio de Janeiro  [{'site': 'slack.com', 'length': 158}, {'site'...   \n",
       "3   New Zealand/Auckland  [{'site': 'amazon.com', 'length': 168}, {'site...   \n",
       "4   New Zealand/Auckland  [{'site': 'vk.com', 'length': 43}, {'site': 'm...   \n",
       "\n",
       "       time       date  nSites  nUniqueSites  totalLenght          firstSite  \\\n",
       "0  03:57:00 2016-08-14      14            12         1839           lenta.ru   \n",
       "1  13:52:00 2016-05-31      12            12         1839  windowsupdate.com   \n",
       "2  17:40:00 2019-04-15      12            12         1839          slack.com   \n",
       "3  20:23:00 2018-03-25      15            12         1839         amazon.com   \n",
       "4  01:10:00 2018-09-08      11            12         1839             vk.com   \n",
       "\n",
       "             City      Country  \n",
       "0         Toronto       Canada  \n",
       "1       Amsterdam  Netherlands  \n",
       "2  Rio de Janeiro       Brazil  \n",
       "3        Auckland  New Zealand  \n",
       "4        Auckland  New Zealand  "
      ]
     },
     "execution_count": 125,
     "metadata": {},
     "output_type": "execute_result"
    }
   ],
   "source": [
    "df.head()"
   ]
  },
  {
   "cell_type": "code",
   "execution_count": 23,
   "metadata": {},
   "outputs": [
    {
     "data": {
      "text/plain": [
       "(160000, 9)"
      ]
     },
     "execution_count": 23,
     "metadata": {},
     "output_type": "execute_result"
    }
   ],
   "source": [
    "df.shape"
   ]
  },
  {
   "cell_type": "code",
   "execution_count": 24,
   "metadata": {},
   "outputs": [
    {
     "name": "stdout",
     "output_type": "stream",
     "text": [
      "<class 'pandas.core.frame.DataFrame'>\n",
      "RangeIndex: 160000 entries, 0 to 159999\n",
      "Data columns (total 9 columns):\n",
      " #   Column    Non-Null Count   Dtype         \n",
      "---  ------    --------------   -----         \n",
      " 0   browser   160000 non-null  object        \n",
      " 1   os        160000 non-null  object        \n",
      " 2   locale    160000 non-null  object        \n",
      " 3   user_id   160000 non-null  int64         \n",
      " 4   gender    160000 non-null  object        \n",
      " 5   location  160000 non-null  object        \n",
      " 6   sites     160000 non-null  object        \n",
      " 7   time      160000 non-null  object        \n",
      " 8   date      160000 non-null  datetime64[ns]\n",
      "dtypes: datetime64[ns](1), int64(1), object(7)\n",
      "memory usage: 11.0+ MB\n"
     ]
    }
   ],
   "source": [
    "df.info()"
   ]
  },
  {
   "cell_type": "code",
   "execution_count": 26,
   "metadata": {},
   "outputs": [
    {
     "data": {
      "text/html": [
       "<div>\n",
       "<style scoped>\n",
       "    .dataframe tbody tr th:only-of-type {\n",
       "        vertical-align: middle;\n",
       "    }\n",
       "\n",
       "    .dataframe tbody tr th {\n",
       "        vertical-align: top;\n",
       "    }\n",
       "\n",
       "    .dataframe thead th {\n",
       "        text-align: right;\n",
       "    }\n",
       "</style>\n",
       "<table border=\"1\" class=\"dataframe\">\n",
       "  <thead>\n",
       "    <tr style=\"text-align: right;\">\n",
       "      <th></th>\n",
       "      <th>count</th>\n",
       "      <th>mean</th>\n",
       "      <th>std</th>\n",
       "      <th>min</th>\n",
       "      <th>25%</th>\n",
       "      <th>50%</th>\n",
       "      <th>75%</th>\n",
       "      <th>max</th>\n",
       "    </tr>\n",
       "  </thead>\n",
       "  <tbody>\n",
       "    <tr>\n",
       "      <th>user_id</th>\n",
       "      <td>160000.0</td>\n",
       "      <td>99.5</td>\n",
       "      <td>57.734486</td>\n",
       "      <td>0.0</td>\n",
       "      <td>49.75</td>\n",
       "      <td>99.5</td>\n",
       "      <td>149.25</td>\n",
       "      <td>199.0</td>\n",
       "    </tr>\n",
       "  </tbody>\n",
       "</table>\n",
       "</div>"
      ],
      "text/plain": [
       "            count  mean        std  min    25%   50%     75%    max\n",
       "user_id  160000.0  99.5  57.734486  0.0  49.75  99.5  149.25  199.0"
      ]
     },
     "execution_count": 26,
     "metadata": {},
     "output_type": "execute_result"
    }
   ],
   "source": [
    "df.describe().T"
   ]
  },
  {
   "cell_type": "markdown",
   "metadata": {},
   "source": [
    "### 1. Missing Value Analysis"
   ]
  },
  {
   "cell_type": "code",
   "execution_count": 29,
   "metadata": {},
   "outputs": [
    {
     "data": {
      "text/plain": [
       "browser     0.0\n",
       "os          0.0\n",
       "locale      0.0\n",
       "user_id     0.0\n",
       "gender      0.0\n",
       "location    0.0\n",
       "sites       0.0\n",
       "time        0.0\n",
       "date        0.0\n",
       "dtype: float64"
      ]
     },
     "execution_count": 29,
     "metadata": {},
     "output_type": "execute_result"
    }
   ],
   "source": [
    "df.isna().sum() / df.shape[0]"
   ]
  },
  {
   "cell_type": "markdown",
   "metadata": {},
   "source": [
    "### 2. Feature Engineer ( Pre Processing)\n",
    "\n",
    "**Sites columns**\n",
    "- count of sites\n",
    "- count of unique sites\n",
    "- total time ( in seconds) - ❌ not useful\n",
    "- top 5 longest sites accessed per user"
   ]
  },
  {
   "cell_type": "code",
   "execution_count": 35,
   "metadata": {},
   "outputs": [
    {
     "data": {
      "text/html": [
       "<div>\n",
       "<style scoped>\n",
       "    .dataframe tbody tr th:only-of-type {\n",
       "        vertical-align: middle;\n",
       "    }\n",
       "\n",
       "    .dataframe tbody tr th {\n",
       "        vertical-align: top;\n",
       "    }\n",
       "\n",
       "    .dataframe thead th {\n",
       "        text-align: right;\n",
       "    }\n",
       "</style>\n",
       "<table border=\"1\" class=\"dataframe\">\n",
       "  <thead>\n",
       "    <tr style=\"text-align: right;\">\n",
       "      <th></th>\n",
       "      <th>browser</th>\n",
       "      <th>os</th>\n",
       "      <th>locale</th>\n",
       "      <th>user_id</th>\n",
       "      <th>gender</th>\n",
       "      <th>location</th>\n",
       "      <th>sites</th>\n",
       "      <th>time</th>\n",
       "      <th>date</th>\n",
       "    </tr>\n",
       "  </thead>\n",
       "  <tbody>\n",
       "    <tr>\n",
       "      <th>0</th>\n",
       "      <td>Chrome</td>\n",
       "      <td>Windows 8</td>\n",
       "      <td>de-DE</td>\n",
       "      <td>164</td>\n",
       "      <td>m</td>\n",
       "      <td>Canada/Toronto</td>\n",
       "      <td>[{'site': 'lenta.ru', 'length': 296}, {'site':...</td>\n",
       "      <td>03:57:00</td>\n",
       "      <td>2016-08-14</td>\n",
       "    </tr>\n",
       "    <tr>\n",
       "      <th>1</th>\n",
       "      <td>Chrome</td>\n",
       "      <td>Windows 10</td>\n",
       "      <td>pt-PT</td>\n",
       "      <td>99</td>\n",
       "      <td>f</td>\n",
       "      <td>Netherlands/Amsterdam</td>\n",
       "      <td>[{'site': 'windowsupdate.com', 'length': 56}, ...</td>\n",
       "      <td>13:52:00</td>\n",
       "      <td>2016-05-31</td>\n",
       "    </tr>\n",
       "    <tr>\n",
       "      <th>2</th>\n",
       "      <td>Chrome</td>\n",
       "      <td>Windows 10</td>\n",
       "      <td>bg-BG</td>\n",
       "      <td>28</td>\n",
       "      <td>m</td>\n",
       "      <td>Brazil/Rio de Janeiro</td>\n",
       "      <td>[{'site': 'slack.com', 'length': 158}, {'site'...</td>\n",
       "      <td>17:40:00</td>\n",
       "      <td>2019-04-15</td>\n",
       "    </tr>\n",
       "    <tr>\n",
       "      <th>3</th>\n",
       "      <td>Internet Explorer</td>\n",
       "      <td>Ubuntu</td>\n",
       "      <td>en-US</td>\n",
       "      <td>163</td>\n",
       "      <td>f</td>\n",
       "      <td>New Zealand/Auckland</td>\n",
       "      <td>[{'site': 'amazon.com', 'length': 168}, {'site...</td>\n",
       "      <td>20:23:00</td>\n",
       "      <td>2018-03-25</td>\n",
       "    </tr>\n",
       "    <tr>\n",
       "      <th>4</th>\n",
       "      <td>Firefox</td>\n",
       "      <td>Debian</td>\n",
       "      <td>ro-RO</td>\n",
       "      <td>177</td>\n",
       "      <td>f</td>\n",
       "      <td>New Zealand/Auckland</td>\n",
       "      <td>[{'site': 'vk.com', 'length': 43}, {'site': 'm...</td>\n",
       "      <td>01:10:00</td>\n",
       "      <td>2018-09-08</td>\n",
       "    </tr>\n",
       "  </tbody>\n",
       "</table>\n",
       "</div>"
      ],
      "text/plain": [
       "             browser          os locale  user_id gender  \\\n",
       "0             Chrome   Windows 8  de-DE      164      m   \n",
       "1             Chrome  Windows 10  pt-PT       99      f   \n",
       "2             Chrome  Windows 10  bg-BG       28      m   \n",
       "3  Internet Explorer      Ubuntu  en-US      163      f   \n",
       "4            Firefox      Debian  ro-RO      177      f   \n",
       "\n",
       "                location                                              sites  \\\n",
       "0         Canada/Toronto  [{'site': 'lenta.ru', 'length': 296}, {'site':...   \n",
       "1  Netherlands/Amsterdam  [{'site': 'windowsupdate.com', 'length': 56}, ...   \n",
       "2  Brazil/Rio de Janeiro  [{'site': 'slack.com', 'length': 158}, {'site'...   \n",
       "3   New Zealand/Auckland  [{'site': 'amazon.com', 'length': 168}, {'site...   \n",
       "4   New Zealand/Auckland  [{'site': 'vk.com', 'length': 43}, {'site': 'm...   \n",
       "\n",
       "       time       date  \n",
       "0  03:57:00 2016-08-14  \n",
       "1  13:52:00 2016-05-31  \n",
       "2  17:40:00 2019-04-15  \n",
       "3  20:23:00 2018-03-25  \n",
       "4  01:10:00 2018-09-08  "
      ]
     },
     "execution_count": 35,
     "metadata": {},
     "output_type": "execute_result"
    }
   ],
   "source": [
    "df.head()"
   ]
  },
  {
   "cell_type": "code",
   "execution_count": 48,
   "metadata": {},
   "outputs": [],
   "source": [
    "def _func( x ):\n",
    "    return x.split(\"/\")[0], x.split(\"/\")[1]"
   ]
  },
  {
   "cell_type": "code",
   "execution_count": 55,
   "metadata": {},
   "outputs": [],
   "source": [
    "#lambda function\n",
    "_f = (lambda x : (x.split(\"/\")[0], x.split(\"/\")[1])  )"
   ]
  },
  {
   "cell_type": "code",
   "execution_count": 61,
   "metadata": {},
   "outputs": [],
   "source": [
    "df['nSites'] = df.sites.apply( lambda x : len(x) )"
   ]
  },
  {
   "cell_type": "code",
   "execution_count": 62,
   "metadata": {},
   "outputs": [
    {
     "name": "stdout",
     "output_type": "stream",
     "text": [
      "4.13 s ± 80.2 ms per loop (mean ± std. dev. of 7 runs, 1 loop each)\n"
     ]
    }
   ],
   "source": [
    "def get_unique_site(x):\n",
    "    temp_list = []\n",
    "    for i in x:\n",
    "        temp_list.append(i['site'])\n",
    "    \n",
    "    return len(np.unique(temp_list))\n",
    "\n",
    "%timeit df['count_unique_sites'] = df.sites.apply(lambda x : get_unique_site(x) )"
   ]
  },
  {
   "cell_type": "code",
   "execution_count": 65,
   "metadata": {},
   "outputs": [],
   "source": [
    "temp = df.sites[0]"
   ]
  },
  {
   "cell_type": "code",
   "execution_count": 75,
   "metadata": {},
   "outputs": [
    {
     "data": {
      "text/plain": [
       "[17, 317, 326, 8, 17, 439, 39, 36]"
      ]
     },
     "execution_count": 75,
     "metadata": {},
     "output_type": "execute_result"
    }
   ],
   "source": [
    "# ls = [12,312,321,3,12,434,34,31]\n",
    "# add5 = lambda x : x + 5\n",
    "\n",
    "# list (map( add5, ls ))\n",
    "\n",
    "# #for i in range(len(ls)):\n",
    "# #     ls[i] = ls[i] + 5\n",
    "    \n",
    "# # ls"
   ]
  },
  {
   "cell_type": "code",
   "execution_count": 155,
   "metadata": {},
   "outputs": [],
   "source": [
    "def get_unique_site(x):\n",
    "    f = lambda x : x['site']\n",
    "    return len(np.unique(list(map(f, x))))\n",
    "\n",
    "\n",
    "df['nUniqueSites'] = df.sites.map(lambda x : get_unique_site(x) )"
   ]
  },
  {
   "cell_type": "code",
   "execution_count": 85,
   "metadata": {},
   "outputs": [],
   "source": [
    "# sum(ls)"
   ]
  },
  {
   "cell_type": "code",
   "execution_count": 154,
   "metadata": {},
   "outputs": [],
   "source": [
    "def get_sum(x):\n",
    "    f = lambda x : x['length']\n",
    "    return sum(list(map(f, x)))\n",
    "\n",
    "\n",
    "df['totalLenght'] = df.sites.map(lambda x : get_sum(x) )"
   ]
  },
  {
   "cell_type": "code",
   "execution_count": 145,
   "metadata": {},
   "outputs": [],
   "source": [
    "def _extract(x, pos):\n",
    "    if len(x) > pos:\n",
    "        return x[pos]['site']\n",
    "    else:\n",
    "        return np.nan\n",
    "df['firstSite'] = df.sites.apply( lambda x : x[0]['site'])\n",
    "df['secondSite'] = df.sites.apply( lambda x : _extract( x,1 ))\n",
    "df['thirdSite'] = df.sites.apply( lambda x : _extract( x,2))"
   ]
  },
  {
   "cell_type": "code",
   "execution_count": 116,
   "metadata": {},
   "outputs": [
    {
     "data": {
      "text/plain": [
       "<AxesSubplot:>"
      ]
     },
     "execution_count": 116,
     "metadata": {},
     "output_type": "execute_result"
    },
    {
     "data": {
      "image/png": "[encoded data removed]",
      "text/plain": [
       "<Figure size 432x288 with 1 Axes>"
      ]
     },
     "metadata": {
      "needs_background": "light"
     },
     "output_type": "display_data"
    }
   ],
   "source": [
    "df[ df.user_id == 48].firstSite.value_counts().plot.bar()"
   ]
  },
  {
   "cell_type": "code",
   "execution_count": 117,
   "metadata": {},
   "outputs": [
    {
     "data": {
      "text/html": [
       "<div>\n",
       "<style scoped>\n",
       "    .dataframe tbody tr th:only-of-type {\n",
       "        vertical-align: middle;\n",
       "    }\n",
       "\n",
       "    .dataframe tbody tr th {\n",
       "        vertical-align: top;\n",
       "    }\n",
       "\n",
       "    .dataframe thead th {\n",
       "        text-align: right;\n",
       "    }\n",
       "</style>\n",
       "<table border=\"1\" class=\"dataframe\">\n",
       "  <thead>\n",
       "    <tr style=\"text-align: right;\">\n",
       "      <th></th>\n",
       "      <th>browser</th>\n",
       "      <th>os</th>\n",
       "      <th>locale</th>\n",
       "      <th>user_id</th>\n",
       "      <th>gender</th>\n",
       "      <th>location</th>\n",
       "      <th>sites</th>\n",
       "      <th>time</th>\n",
       "      <th>date</th>\n",
       "      <th>nSites</th>\n",
       "      <th>nUniqueSites</th>\n",
       "      <th>totalLenght</th>\n",
       "      <th>firstSite</th>\n",
       "    </tr>\n",
       "  </thead>\n",
       "  <tbody>\n",
       "    <tr>\n",
       "      <th>0</th>\n",
       "      <td>Chrome</td>\n",
       "      <td>Windows 8</td>\n",
       "      <td>de-DE</td>\n",
       "      <td>164</td>\n",
       "      <td>m</td>\n",
       "      <td>Canada/Toronto</td>\n",
       "      <td>[{'site': 'lenta.ru', 'length': 296}, {'site':...</td>\n",
       "      <td>03:57:00</td>\n",
       "      <td>2016-08-14</td>\n",
       "      <td>14</td>\n",
       "      <td>12</td>\n",
       "      <td>1839</td>\n",
       "      <td>lenta.ru</td>\n",
       "    </tr>\n",
       "    <tr>\n",
       "      <th>1</th>\n",
       "      <td>Chrome</td>\n",
       "      <td>Windows 10</td>\n",
       "      <td>pt-PT</td>\n",
       "      <td>99</td>\n",
       "      <td>f</td>\n",
       "      <td>Netherlands/Amsterdam</td>\n",
       "      <td>[{'site': 'windowsupdate.com', 'length': 56}, ...</td>\n",
       "      <td>13:52:00</td>\n",
       "      <td>2016-05-31</td>\n",
       "      <td>12</td>\n",
       "      <td>12</td>\n",
       "      <td>1839</td>\n",
       "      <td>windowsupdate.com</td>\n",
       "    </tr>\n",
       "    <tr>\n",
       "      <th>2</th>\n",
       "      <td>Chrome</td>\n",
       "      <td>Windows 10</td>\n",
       "      <td>bg-BG</td>\n",
       "      <td>28</td>\n",
       "      <td>m</td>\n",
       "      <td>Brazil/Rio de Janeiro</td>\n",
       "      <td>[{'site': 'slack.com', 'length': 158}, {'site'...</td>\n",
       "      <td>17:40:00</td>\n",
       "      <td>2019-04-15</td>\n",
       "      <td>12</td>\n",
       "      <td>12</td>\n",
       "      <td>1839</td>\n",
       "      <td>slack.com</td>\n",
       "    </tr>\n",
       "    <tr>\n",
       "      <th>3</th>\n",
       "      <td>Internet Explorer</td>\n",
       "      <td>Ubuntu</td>\n",
       "      <td>en-US</td>\n",
       "      <td>163</td>\n",
       "      <td>f</td>\n",
       "      <td>New Zealand/Auckland</td>\n",
       "      <td>[{'site': 'amazon.com', 'length': 168}, {'site...</td>\n",
       "      <td>20:23:00</td>\n",
       "      <td>2018-03-25</td>\n",
       "      <td>15</td>\n",
       "      <td>12</td>\n",
       "      <td>1839</td>\n",
       "      <td>amazon.com</td>\n",
       "    </tr>\n",
       "    <tr>\n",
       "      <th>4</th>\n",
       "      <td>Firefox</td>\n",
       "      <td>Debian</td>\n",
       "      <td>ro-RO</td>\n",
       "      <td>177</td>\n",
       "      <td>f</td>\n",
       "      <td>New Zealand/Auckland</td>\n",
       "      <td>[{'site': 'vk.com', 'length': 43}, {'site': 'm...</td>\n",
       "      <td>01:10:00</td>\n",
       "      <td>2018-09-08</td>\n",
       "      <td>11</td>\n",
       "      <td>12</td>\n",
       "      <td>1839</td>\n",
       "      <td>vk.com</td>\n",
       "    </tr>\n",
       "  </tbody>\n",
       "</table>\n",
       "</div>"
      ],
      "text/plain": [
       "             browser          os locale  user_id gender  \\\n",
       "0             Chrome   Windows 8  de-DE      164      m   \n",
       "1             Chrome  Windows 10  pt-PT       99      f   \n",
       "2             Chrome  Windows 10  bg-BG       28      m   \n",
       "3  Internet Explorer      Ubuntu  en-US      163      f   \n",
       "4            Firefox      Debian  ro-RO      177      f   \n",
       "\n",
       "                location                                              sites  \\\n",
       "0         Canada/Toronto  [{'site': 'lenta.ru', 'length': 296}, {'site':...   \n",
       "1  Netherlands/Amsterdam  [{'site': 'windowsupdate.com', 'length': 56}, ...   \n",
       "2  Brazil/Rio de Janeiro  [{'site': 'slack.com', 'length': 158}, {'site'...   \n",
       "3   New Zealand/Auckland  [{'site': 'amazon.com', 'length': 168}, {'site...   \n",
       "4   New Zealand/Auckland  [{'site': 'vk.com', 'length': 43}, {'site': 'm...   \n",
       "\n",
       "       time       date  nSites  nUniqueSites  totalLenght          firstSite  \n",
       "0  03:57:00 2016-08-14      14            12         1839           lenta.ru  \n",
       "1  13:52:00 2016-05-31      12            12         1839  windowsupdate.com  \n",
       "2  17:40:00 2019-04-15      12            12         1839          slack.com  \n",
       "3  20:23:00 2018-03-25      15            12         1839         amazon.com  \n",
       "4  01:10:00 2018-09-08      11            12         1839             vk.com  "
      ]
     },
     "execution_count": 117,
     "metadata": {},
     "output_type": "execute_result"
    }
   ],
   "source": [
    "df.head()"
   ]
  },
  {
   "cell_type": "code",
   "execution_count": 120,
   "metadata": {},
   "outputs": [],
   "source": [
    "#extracting city and country\n",
    "df['City'] = df.location.str.split(\"/\").str[1]\n",
    "df['Country'] = df.location.str.split(\"/\").str[0]"
   ]
  },
  {
   "cell_type": "code",
   "execution_count": 121,
   "metadata": {},
   "outputs": [
    {
     "data": {
      "text/html": [
       "<div>\n",
       "<style scoped>\n",
       "    .dataframe tbody tr th:only-of-type {\n",
       "        vertical-align: middle;\n",
       "    }\n",
       "\n",
       "    .dataframe tbody tr th {\n",
       "        vertical-align: top;\n",
       "    }\n",
       "\n",
       "    .dataframe thead th {\n",
       "        text-align: right;\n",
       "    }\n",
       "</style>\n",
       "<table border=\"1\" class=\"dataframe\">\n",
       "  <thead>\n",
       "    <tr style=\"text-align: right;\">\n",
       "      <th></th>\n",
       "      <th>browser</th>\n",
       "      <th>os</th>\n",
       "      <th>locale</th>\n",
       "      <th>user_id</th>\n",
       "      <th>gender</th>\n",
       "      <th>location</th>\n",
       "      <th>sites</th>\n",
       "      <th>time</th>\n",
       "      <th>date</th>\n",
       "      <th>nSites</th>\n",
       "      <th>nUniqueSites</th>\n",
       "      <th>totalLenght</th>\n",
       "      <th>firstSite</th>\n",
       "      <th>City</th>\n",
       "      <th>Country</th>\n",
       "    </tr>\n",
       "  </thead>\n",
       "  <tbody>\n",
       "    <tr>\n",
       "      <th>0</th>\n",
       "      <td>Chrome</td>\n",
       "      <td>Windows 8</td>\n",
       "      <td>de-DE</td>\n",
       "      <td>164</td>\n",
       "      <td>m</td>\n",
       "      <td>Canada/Toronto</td>\n",
       "      <td>[{'site': 'lenta.ru', 'length': 296}, {'site':...</td>\n",
       "      <td>03:57:00</td>\n",
       "      <td>2016-08-14</td>\n",
       "      <td>14</td>\n",
       "      <td>12</td>\n",
       "      <td>1839</td>\n",
       "      <td>lenta.ru</td>\n",
       "      <td>Toronto</td>\n",
       "      <td>Canada</td>\n",
       "    </tr>\n",
       "    <tr>\n",
       "      <th>1</th>\n",
       "      <td>Chrome</td>\n",
       "      <td>Windows 10</td>\n",
       "      <td>pt-PT</td>\n",
       "      <td>99</td>\n",
       "      <td>f</td>\n",
       "      <td>Netherlands/Amsterdam</td>\n",
       "      <td>[{'site': 'windowsupdate.com', 'length': 56}, ...</td>\n",
       "      <td>13:52:00</td>\n",
       "      <td>2016-05-31</td>\n",
       "      <td>12</td>\n",
       "      <td>12</td>\n",
       "      <td>1839</td>\n",
       "      <td>windowsupdate.com</td>\n",
       "      <td>Amsterdam</td>\n",
       "      <td>Netherlands</td>\n",
       "    </tr>\n",
       "    <tr>\n",
       "      <th>2</th>\n",
       "      <td>Chrome</td>\n",
       "      <td>Windows 10</td>\n",
       "      <td>bg-BG</td>\n",
       "      <td>28</td>\n",
       "      <td>m</td>\n",
       "      <td>Brazil/Rio de Janeiro</td>\n",
       "      <td>[{'site': 'slack.com', 'length': 158}, {'site'...</td>\n",
       "      <td>17:40:00</td>\n",
       "      <td>2019-04-15</td>\n",
       "      <td>12</td>\n",
       "      <td>12</td>\n",
       "      <td>1839</td>\n",
       "      <td>slack.com</td>\n",
       "      <td>Rio de Janeiro</td>\n",
       "      <td>Brazil</td>\n",
       "    </tr>\n",
       "    <tr>\n",
       "      <th>3</th>\n",
       "      <td>Internet Explorer</td>\n",
       "      <td>Ubuntu</td>\n",
       "      <td>en-US</td>\n",
       "      <td>163</td>\n",
       "      <td>f</td>\n",
       "      <td>New Zealand/Auckland</td>\n",
       "      <td>[{'site': 'amazon.com', 'length': 168}, {'site...</td>\n",
       "      <td>20:23:00</td>\n",
       "      <td>2018-03-25</td>\n",
       "      <td>15</td>\n",
       "      <td>12</td>\n",
       "      <td>1839</td>\n",
       "      <td>amazon.com</td>\n",
       "      <td>Auckland</td>\n",
       "      <td>New Zealand</td>\n",
       "    </tr>\n",
       "    <tr>\n",
       "      <th>4</th>\n",
       "      <td>Firefox</td>\n",
       "      <td>Debian</td>\n",
       "      <td>ro-RO</td>\n",
       "      <td>177</td>\n",
       "      <td>f</td>\n",
       "      <td>New Zealand/Auckland</td>\n",
       "      <td>[{'site': 'vk.com', 'length': 43}, {'site': 'm...</td>\n",
       "      <td>01:10:00</td>\n",
       "      <td>2018-09-08</td>\n",
       "      <td>11</td>\n",
       "      <td>12</td>\n",
       "      <td>1839</td>\n",
       "      <td>vk.com</td>\n",
       "      <td>Auckland</td>\n",
       "      <td>New Zealand</td>\n",
       "    </tr>\n",
       "  </tbody>\n",
       "</table>\n",
       "</div>"
      ],
      "text/plain": [
       "             browser          os locale  user_id gender  \\\n",
       "0             Chrome   Windows 8  de-DE      164      m   \n",
       "1             Chrome  Windows 10  pt-PT       99      f   \n",
       "2             Chrome  Windows 10  bg-BG       28      m   \n",
       "3  Internet Explorer      Ubuntu  en-US      163      f   \n",
       "4            Firefox      Debian  ro-RO      177      f   \n",
       "\n",
       "                location                                              sites  \\\n",
       "0         Canada/Toronto  [{'site': 'lenta.ru', 'length': 296}, {'site':...   \n",
       "1  Netherlands/Amsterdam  [{'site': 'windowsupdate.com', 'length': 56}, ...   \n",
       "2  Brazil/Rio de Janeiro  [{'site': 'slack.com', 'length': 158}, {'site'...   \n",
       "3   New Zealand/Auckland  [{'site': 'amazon.com', 'length': 168}, {'site...   \n",
       "4   New Zealand/Auckland  [{'site': 'vk.com', 'length': 43}, {'site': 'm...   \n",
       "\n",
       "       time       date  nSites  nUniqueSites  totalLenght          firstSite  \\\n",
       "0  03:57:00 2016-08-14      14            12         1839           lenta.ru   \n",
       "1  13:52:00 2016-05-31      12            12         1839  windowsupdate.com   \n",
       "2  17:40:00 2019-04-15      12            12         1839          slack.com   \n",
       "3  20:23:00 2018-03-25      15            12         1839         amazon.com   \n",
       "4  01:10:00 2018-09-08      11            12         1839             vk.com   \n",
       "\n",
       "             City      Country  \n",
       "0         Toronto       Canada  \n",
       "1       Amsterdam  Netherlands  \n",
       "2  Rio de Janeiro       Brazil  \n",
       "3        Auckland  New Zealand  \n",
       "4        Auckland  New Zealand  "
      ]
     },
     "execution_count": 121,
     "metadata": {},
     "output_type": "execute_result"
    }
   ],
   "source": [
    "df.head()"
   ]
  },
  {
   "cell_type": "code",
   "execution_count": 130,
   "metadata": {},
   "outputs": [],
   "source": [
    "df['year'] = df.date.dt.year\n",
    "df['month'] = df.date.dt.month\n",
    "df['day'] = df.date.dt.day"
   ]
  },
  {
   "cell_type": "code",
   "execution_count": 147,
   "metadata": {},
   "outputs": [
    {
     "data": {
      "text/html": [
       "<div>\n",
       "<style scoped>\n",
       "    .dataframe tbody tr th:only-of-type {\n",
       "        vertical-align: middle;\n",
       "    }\n",
       "\n",
       "    .dataframe tbody tr th {\n",
       "        vertical-align: top;\n",
       "    }\n",
       "\n",
       "    .dataframe thead th {\n",
       "        text-align: right;\n",
       "    }\n",
       "</style>\n",
       "<table border=\"1\" class=\"dataframe\">\n",
       "  <thead>\n",
       "    <tr style=\"text-align: right;\">\n",
       "      <th></th>\n",
       "      <th>browser</th>\n",
       "      <th>os</th>\n",
       "      <th>locale</th>\n",
       "      <th>user_id</th>\n",
       "      <th>gender</th>\n",
       "      <th>location</th>\n",
       "      <th>sites</th>\n",
       "      <th>time</th>\n",
       "      <th>date</th>\n",
       "      <th>nSites</th>\n",
       "      <th>nUniqueSites</th>\n",
       "      <th>totalLenght</th>\n",
       "      <th>firstSite</th>\n",
       "      <th>City</th>\n",
       "      <th>Country</th>\n",
       "      <th>year</th>\n",
       "      <th>month</th>\n",
       "      <th>day</th>\n",
       "      <th>secondSite</th>\n",
       "      <th>thirdSite</th>\n",
       "    </tr>\n",
       "  </thead>\n",
       "  <tbody>\n",
       "    <tr>\n",
       "      <th>0</th>\n",
       "      <td>Chrome</td>\n",
       "      <td>Windows 8</td>\n",
       "      <td>de-DE</td>\n",
       "      <td>164</td>\n",
       "      <td>m</td>\n",
       "      <td>Canada/Toronto</td>\n",
       "      <td>[{'site': 'lenta.ru', 'length': 296}, {'site':...</td>\n",
       "      <td>03:57:00</td>\n",
       "      <td>2016-08-14</td>\n",
       "      <td>14</td>\n",
       "      <td>12</td>\n",
       "      <td>1839</td>\n",
       "      <td>lenta.ru</td>\n",
       "      <td>Toronto</td>\n",
       "      <td>Canada</td>\n",
       "      <td>2016</td>\n",
       "      <td>8</td>\n",
       "      <td>14</td>\n",
       "      <td>lenta.ru</td>\n",
       "      <td>vk.com</td>\n",
       "    </tr>\n",
       "    <tr>\n",
       "      <th>1</th>\n",
       "      <td>Chrome</td>\n",
       "      <td>Windows 10</td>\n",
       "      <td>pt-PT</td>\n",
       "      <td>99</td>\n",
       "      <td>f</td>\n",
       "      <td>Netherlands/Amsterdam</td>\n",
       "      <td>[{'site': 'windowsupdate.com', 'length': 56}, ...</td>\n",
       "      <td>13:52:00</td>\n",
       "      <td>2016-05-31</td>\n",
       "      <td>12</td>\n",
       "      <td>12</td>\n",
       "      <td>1839</td>\n",
       "      <td>windowsupdate.com</td>\n",
       "      <td>Amsterdam</td>\n",
       "      <td>Netherlands</td>\n",
       "      <td>2016</td>\n",
       "      <td>5</td>\n",
       "      <td>31</td>\n",
       "      <td>amazon.com</td>\n",
       "      <td>live.com</td>\n",
       "    </tr>\n",
       "    <tr>\n",
       "      <th>2</th>\n",
       "      <td>Chrome</td>\n",
       "      <td>Windows 10</td>\n",
       "      <td>bg-BG</td>\n",
       "      <td>28</td>\n",
       "      <td>m</td>\n",
       "      <td>Brazil/Rio de Janeiro</td>\n",
       "      <td>[{'site': 'slack.com', 'length': 158}, {'site'...</td>\n",
       "      <td>17:40:00</td>\n",
       "      <td>2019-04-15</td>\n",
       "      <td>12</td>\n",
       "      <td>12</td>\n",
       "      <td>1839</td>\n",
       "      <td>slack.com</td>\n",
       "      <td>Rio de Janeiro</td>\n",
       "      <td>Brazil</td>\n",
       "      <td>2019</td>\n",
       "      <td>4</td>\n",
       "      <td>15</td>\n",
       "      <td>slack.com</td>\n",
       "      <td>mail.google.com</td>\n",
       "    </tr>\n",
       "    <tr>\n",
       "      <th>3</th>\n",
       "      <td>Internet Explorer</td>\n",
       "      <td>Ubuntu</td>\n",
       "      <td>en-US</td>\n",
       "      <td>163</td>\n",
       "      <td>f</td>\n",
       "      <td>New Zealand/Auckland</td>\n",
       "      <td>[{'site': 'amazon.com', 'length': 168}, {'site...</td>\n",
       "      <td>20:23:00</td>\n",
       "      <td>2018-03-25</td>\n",
       "      <td>15</td>\n",
       "      <td>12</td>\n",
       "      <td>1839</td>\n",
       "      <td>amazon.com</td>\n",
       "      <td>Auckland</td>\n",
       "      <td>New Zealand</td>\n",
       "      <td>2018</td>\n",
       "      <td>3</td>\n",
       "      <td>25</td>\n",
       "      <td>microsoft.com</td>\n",
       "      <td>gvt2.com</td>\n",
       "    </tr>\n",
       "    <tr>\n",
       "      <th>4</th>\n",
       "      <td>Firefox</td>\n",
       "      <td>Debian</td>\n",
       "      <td>ro-RO</td>\n",
       "      <td>177</td>\n",
       "      <td>f</td>\n",
       "      <td>New Zealand/Auckland</td>\n",
       "      <td>[{'site': 'vk.com', 'length': 43}, {'site': 'm...</td>\n",
       "      <td>01:10:00</td>\n",
       "      <td>2018-09-08</td>\n",
       "      <td>11</td>\n",
       "      <td>12</td>\n",
       "      <td>1839</td>\n",
       "      <td>vk.com</td>\n",
       "      <td>Auckland</td>\n",
       "      <td>New Zealand</td>\n",
       "      <td>2018</td>\n",
       "      <td>9</td>\n",
       "      <td>8</td>\n",
       "      <td>mail.google.com</td>\n",
       "      <td>lenta.ru</td>\n",
       "    </tr>\n",
       "  </tbody>\n",
       "</table>\n",
       "</div>"
      ],
      "text/plain": [
       "             browser          os locale  user_id gender  \\\n",
       "0             Chrome   Windows 8  de-DE      164      m   \n",
       "1             Chrome  Windows 10  pt-PT       99      f   \n",
       "2             Chrome  Windows 10  bg-BG       28      m   \n",
       "3  Internet Explorer      Ubuntu  en-US      163      f   \n",
       "4            Firefox      Debian  ro-RO      177      f   \n",
       "\n",
       "                location                                              sites  \\\n",
       "0         Canada/Toronto  [{'site': 'lenta.ru', 'length': 296}, {'site':...   \n",
       "1  Netherlands/Amsterdam  [{'site': 'windowsupdate.com', 'length': 56}, ...   \n",
       "2  Brazil/Rio de Janeiro  [{'site': 'slack.com', 'length': 158}, {'site'...   \n",
       "3   New Zealand/Auckland  [{'site': 'amazon.com', 'length': 168}, {'site...   \n",
       "4   New Zealand/Auckland  [{'site': 'vk.com', 'length': 43}, {'site': 'm...   \n",
       "\n",
       "       time       date  nSites  nUniqueSites  totalLenght          firstSite  \\\n",
       "0  03:57:00 2016-08-14      14            12         1839           lenta.ru   \n",
       "1  13:52:00 2016-05-31      12            12         1839  windowsupdate.com   \n",
       "2  17:40:00 2019-04-15      12            12         1839          slack.com   \n",
       "3  20:23:00 2018-03-25      15            12         1839         amazon.com   \n",
       "4  01:10:00 2018-09-08      11            12         1839             vk.com   \n",
       "\n",
       "             City      Country  year  month  day       secondSite  \\\n",
       "0         Toronto       Canada  2016      8   14         lenta.ru   \n",
       "1       Amsterdam  Netherlands  2016      5   31       amazon.com   \n",
       "2  Rio de Janeiro       Brazil  2019      4   15        slack.com   \n",
       "3        Auckland  New Zealand  2018      3   25    microsoft.com   \n",
       "4        Auckland  New Zealand  2018      9    8  mail.google.com   \n",
       "\n",
       "         thirdSite  \n",
       "0           vk.com  \n",
       "1         live.com  \n",
       "2  mail.google.com  \n",
       "3         gvt2.com  \n",
       "4         lenta.ru  "
      ]
     },
     "execution_count": 147,
     "metadata": {},
     "output_type": "execute_result"
    }
   ],
   "source": [
    "df.head()"
   ]
  },
  {
   "cell_type": "markdown",
   "metadata": {},
   "source": [
    "### 3.  Outlier Analysis"
   ]
  },
  {
   "cell_type": "code",
   "execution_count": 148,
   "metadata": {},
   "outputs": [
    {
     "data": {
      "text/html": [
       "<div>\n",
       "<style scoped>\n",
       "    .dataframe tbody tr th:only-of-type {\n",
       "        vertical-align: middle;\n",
       "    }\n",
       "\n",
       "    .dataframe tbody tr th {\n",
       "        vertical-align: top;\n",
       "    }\n",
       "\n",
       "    .dataframe thead th {\n",
       "        text-align: right;\n",
       "    }\n",
       "</style>\n",
       "<table border=\"1\" class=\"dataframe\">\n",
       "  <thead>\n",
       "    <tr style=\"text-align: right;\">\n",
       "      <th></th>\n",
       "      <th>browser</th>\n",
       "      <th>os</th>\n",
       "      <th>locale</th>\n",
       "      <th>user_id</th>\n",
       "      <th>gender</th>\n",
       "      <th>location</th>\n",
       "      <th>sites</th>\n",
       "      <th>time</th>\n",
       "      <th>date</th>\n",
       "      <th>nSites</th>\n",
       "      <th>nUniqueSites</th>\n",
       "      <th>totalLenght</th>\n",
       "      <th>firstSite</th>\n",
       "      <th>City</th>\n",
       "      <th>Country</th>\n",
       "      <th>year</th>\n",
       "      <th>month</th>\n",
       "      <th>day</th>\n",
       "      <th>secondSite</th>\n",
       "      <th>thirdSite</th>\n",
       "    </tr>\n",
       "  </thead>\n",
       "  <tbody>\n",
       "    <tr>\n",
       "      <th>0</th>\n",
       "      <td>Chrome</td>\n",
       "      <td>Windows 8</td>\n",
       "      <td>de-DE</td>\n",
       "      <td>164</td>\n",
       "      <td>m</td>\n",
       "      <td>Canada/Toronto</td>\n",
       "      <td>[{'site': 'lenta.ru', 'length': 296}, {'site':...</td>\n",
       "      <td>03:57:00</td>\n",
       "      <td>2016-08-14</td>\n",
       "      <td>14</td>\n",
       "      <td>12</td>\n",
       "      <td>1839</td>\n",
       "      <td>lenta.ru</td>\n",
       "      <td>Toronto</td>\n",
       "      <td>Canada</td>\n",
       "      <td>2016</td>\n",
       "      <td>8</td>\n",
       "      <td>14</td>\n",
       "      <td>lenta.ru</td>\n",
       "      <td>vk.com</td>\n",
       "    </tr>\n",
       "    <tr>\n",
       "      <th>1</th>\n",
       "      <td>Chrome</td>\n",
       "      <td>Windows 10</td>\n",
       "      <td>pt-PT</td>\n",
       "      <td>99</td>\n",
       "      <td>f</td>\n",
       "      <td>Netherlands/Amsterdam</td>\n",
       "      <td>[{'site': 'windowsupdate.com', 'length': 56}, ...</td>\n",
       "      <td>13:52:00</td>\n",
       "      <td>2016-05-31</td>\n",
       "      <td>12</td>\n",
       "      <td>12</td>\n",
       "      <td>1839</td>\n",
       "      <td>windowsupdate.com</td>\n",
       "      <td>Amsterdam</td>\n",
       "      <td>Netherlands</td>\n",
       "      <td>2016</td>\n",
       "      <td>5</td>\n",
       "      <td>31</td>\n",
       "      <td>amazon.com</td>\n",
       "      <td>live.com</td>\n",
       "    </tr>\n",
       "    <tr>\n",
       "      <th>2</th>\n",
       "      <td>Chrome</td>\n",
       "      <td>Windows 10</td>\n",
       "      <td>bg-BG</td>\n",
       "      <td>28</td>\n",
       "      <td>m</td>\n",
       "      <td>Brazil/Rio de Janeiro</td>\n",
       "      <td>[{'site': 'slack.com', 'length': 158}, {'site'...</td>\n",
       "      <td>17:40:00</td>\n",
       "      <td>2019-04-15</td>\n",
       "      <td>12</td>\n",
       "      <td>12</td>\n",
       "      <td>1839</td>\n",
       "      <td>slack.com</td>\n",
       "      <td>Rio de Janeiro</td>\n",
       "      <td>Brazil</td>\n",
       "      <td>2019</td>\n",
       "      <td>4</td>\n",
       "      <td>15</td>\n",
       "      <td>slack.com</td>\n",
       "      <td>mail.google.com</td>\n",
       "    </tr>\n",
       "    <tr>\n",
       "      <th>3</th>\n",
       "      <td>Internet Explorer</td>\n",
       "      <td>Ubuntu</td>\n",
       "      <td>en-US</td>\n",
       "      <td>163</td>\n",
       "      <td>f</td>\n",
       "      <td>New Zealand/Auckland</td>\n",
       "      <td>[{'site': 'amazon.com', 'length': 168}, {'site...</td>\n",
       "      <td>20:23:00</td>\n",
       "      <td>2018-03-25</td>\n",
       "      <td>15</td>\n",
       "      <td>12</td>\n",
       "      <td>1839</td>\n",
       "      <td>amazon.com</td>\n",
       "      <td>Auckland</td>\n",
       "      <td>New Zealand</td>\n",
       "      <td>2018</td>\n",
       "      <td>3</td>\n",
       "      <td>25</td>\n",
       "      <td>microsoft.com</td>\n",
       "      <td>gvt2.com</td>\n",
       "    </tr>\n",
       "    <tr>\n",
       "      <th>4</th>\n",
       "      <td>Firefox</td>\n",
       "      <td>Debian</td>\n",
       "      <td>ro-RO</td>\n",
       "      <td>177</td>\n",
       "      <td>f</td>\n",
       "      <td>New Zealand/Auckland</td>\n",
       "      <td>[{'site': 'vk.com', 'length': 43}, {'site': 'm...</td>\n",
       "      <td>01:10:00</td>\n",
       "      <td>2018-09-08</td>\n",
       "      <td>11</td>\n",
       "      <td>12</td>\n",
       "      <td>1839</td>\n",
       "      <td>vk.com</td>\n",
       "      <td>Auckland</td>\n",
       "      <td>New Zealand</td>\n",
       "      <td>2018</td>\n",
       "      <td>9</td>\n",
       "      <td>8</td>\n",
       "      <td>mail.google.com</td>\n",
       "      <td>lenta.ru</td>\n",
       "    </tr>\n",
       "  </tbody>\n",
       "</table>\n",
       "</div>"
      ],
      "text/plain": [
       "             browser          os locale  user_id gender  \\\n",
       "0             Chrome   Windows 8  de-DE      164      m   \n",
       "1             Chrome  Windows 10  pt-PT       99      f   \n",
       "2             Chrome  Windows 10  bg-BG       28      m   \n",
       "3  Internet Explorer      Ubuntu  en-US      163      f   \n",
       "4            Firefox      Debian  ro-RO      177      f   \n",
       "\n",
       "                location                                              sites  \\\n",
       "0         Canada/Toronto  [{'site': 'lenta.ru', 'length': 296}, {'site':...   \n",
       "1  Netherlands/Amsterdam  [{'site': 'windowsupdate.com', 'length': 56}, ...   \n",
       "2  Brazil/Rio de Janeiro  [{'site': 'slack.com', 'length': 158}, {'site'...   \n",
       "3   New Zealand/Auckland  [{'site': 'amazon.com', 'length': 168}, {'site...   \n",
       "4   New Zealand/Auckland  [{'site': 'vk.com', 'length': 43}, {'site': 'm...   \n",
       "\n",
       "       time       date  nSites  nUniqueSites  totalLenght          firstSite  \\\n",
       "0  03:57:00 2016-08-14      14            12         1839           lenta.ru   \n",
       "1  13:52:00 2016-05-31      12            12         1839  windowsupdate.com   \n",
       "2  17:40:00 2019-04-15      12            12         1839          slack.com   \n",
       "3  20:23:00 2018-03-25      15            12         1839         amazon.com   \n",
       "4  01:10:00 2018-09-08      11            12         1839             vk.com   \n",
       "\n",
       "             City      Country  year  month  day       secondSite  \\\n",
       "0         Toronto       Canada  2016      8   14         lenta.ru   \n",
       "1       Amsterdam  Netherlands  2016      5   31       amazon.com   \n",
       "2  Rio de Janeiro       Brazil  2019      4   15        slack.com   \n",
       "3        Auckland  New Zealand  2018      3   25    microsoft.com   \n",
       "4        Auckland  New Zealand  2018      9    8  mail.google.com   \n",
       "\n",
       "         thirdSite  \n",
       "0           vk.com  \n",
       "1         live.com  \n",
       "2  mail.google.com  \n",
       "3         gvt2.com  \n",
       "4         lenta.ru  "
      ]
     },
     "execution_count": 148,
     "metadata": {},
     "output_type": "execute_result"
    }
   ],
   "source": [
    "df.head()"
   ]
  },
  {
   "cell_type": "code",
   "execution_count": 156,
   "metadata": {},
   "outputs": [
    {
     "data": {
      "text/html": [
       "<div>\n",
       "<style scoped>\n",
       "    .dataframe tbody tr th:only-of-type {\n",
       "        vertical-align: middle;\n",
       "    }\n",
       "\n",
       "    .dataframe tbody tr th {\n",
       "        vertical-align: top;\n",
       "    }\n",
       "\n",
       "    .dataframe thead th {\n",
       "        text-align: right;\n",
       "    }\n",
       "</style>\n",
       "<table border=\"1\" class=\"dataframe\">\n",
       "  <thead>\n",
       "    <tr style=\"text-align: right;\">\n",
       "      <th></th>\n",
       "      <th>user_id</th>\n",
       "      <th>nSites</th>\n",
       "      <th>nUniqueSites</th>\n",
       "      <th>totalLenght</th>\n",
       "      <th>year</th>\n",
       "      <th>month</th>\n",
       "      <th>day</th>\n",
       "    </tr>\n",
       "  </thead>\n",
       "  <tbody>\n",
       "    <tr>\n",
       "      <th>0</th>\n",
       "      <td>164</td>\n",
       "      <td>14</td>\n",
       "      <td>12</td>\n",
       "      <td>1839</td>\n",
       "      <td>2016</td>\n",
       "      <td>8</td>\n",
       "      <td>14</td>\n",
       "    </tr>\n",
       "    <tr>\n",
       "      <th>1</th>\n",
       "      <td>99</td>\n",
       "      <td>12</td>\n",
       "      <td>12</td>\n",
       "      <td>1430</td>\n",
       "      <td>2016</td>\n",
       "      <td>5</td>\n",
       "      <td>31</td>\n",
       "    </tr>\n",
       "    <tr>\n",
       "      <th>2</th>\n",
       "      <td>28</td>\n",
       "      <td>12</td>\n",
       "      <td>10</td>\n",
       "      <td>1142</td>\n",
       "      <td>2019</td>\n",
       "      <td>4</td>\n",
       "      <td>15</td>\n",
       "    </tr>\n",
       "    <tr>\n",
       "      <th>3</th>\n",
       "      <td>163</td>\n",
       "      <td>15</td>\n",
       "      <td>15</td>\n",
       "      <td>1648</td>\n",
       "      <td>2018</td>\n",
       "      <td>3</td>\n",
       "      <td>25</td>\n",
       "    </tr>\n",
       "    <tr>\n",
       "      <th>4</th>\n",
       "      <td>177</td>\n",
       "      <td>11</td>\n",
       "      <td>11</td>\n",
       "      <td>1045</td>\n",
       "      <td>2018</td>\n",
       "      <td>9</td>\n",
       "      <td>8</td>\n",
       "    </tr>\n",
       "    <tr>\n",
       "      <th>...</th>\n",
       "      <td>...</td>\n",
       "      <td>...</td>\n",
       "      <td>...</td>\n",
       "      <td>...</td>\n",
       "      <td>...</td>\n",
       "      <td>...</td>\n",
       "      <td>...</td>\n",
       "    </tr>\n",
       "    <tr>\n",
       "      <th>159995</th>\n",
       "      <td>74</td>\n",
       "      <td>12</td>\n",
       "      <td>11</td>\n",
       "      <td>1185</td>\n",
       "      <td>2018</td>\n",
       "      <td>10</td>\n",
       "      <td>15</td>\n",
       "    </tr>\n",
       "    <tr>\n",
       "      <th>159996</th>\n",
       "      <td>163</td>\n",
       "      <td>12</td>\n",
       "      <td>12</td>\n",
       "      <td>2114</td>\n",
       "      <td>2016</td>\n",
       "      <td>3</td>\n",
       "      <td>23</td>\n",
       "    </tr>\n",
       "    <tr>\n",
       "      <th>159997</th>\n",
       "      <td>114</td>\n",
       "      <td>15</td>\n",
       "      <td>14</td>\n",
       "      <td>1688</td>\n",
       "      <td>2019</td>\n",
       "      <td>3</td>\n",
       "      <td>3</td>\n",
       "    </tr>\n",
       "    <tr>\n",
       "      <th>159998</th>\n",
       "      <td>48</td>\n",
       "      <td>15</td>\n",
       "      <td>15</td>\n",
       "      <td>1984</td>\n",
       "      <td>2016</td>\n",
       "      <td>12</td>\n",
       "      <td>14</td>\n",
       "    </tr>\n",
       "    <tr>\n",
       "      <th>159999</th>\n",
       "      <td>140</td>\n",
       "      <td>15</td>\n",
       "      <td>14</td>\n",
       "      <td>1799</td>\n",
       "      <td>2016</td>\n",
       "      <td>12</td>\n",
       "      <td>4</td>\n",
       "    </tr>\n",
       "  </tbody>\n",
       "</table>\n",
       "<p>160000 rows × 7 columns</p>\n",
       "</div>"
      ],
      "text/plain": [
       "        user_id  nSites  nUniqueSites  totalLenght  year  month  day\n",
       "0           164      14            12         1839  2016      8   14\n",
       "1            99      12            12         1430  2016      5   31\n",
       "2            28      12            10         1142  2019      4   15\n",
       "3           163      15            15         1648  2018      3   25\n",
       "4           177      11            11         1045  2018      9    8\n",
       "...         ...     ...           ...          ...   ...    ...  ...\n",
       "159995       74      12            11         1185  2018     10   15\n",
       "159996      163      12            12         2114  2016      3   23\n",
       "159997      114      15            14         1688  2019      3    3\n",
       "159998       48      15            15         1984  2016     12   14\n",
       "159999      140      15            14         1799  2016     12    4\n",
       "\n",
       "[160000 rows x 7 columns]"
      ]
     },
     "execution_count": 156,
     "metadata": {},
     "output_type": "execute_result"
    }
   ],
   "source": [
    "df.select_dtypes( exclude=['object','datetime'])"
   ]
  },
  {
   "cell_type": "code",
   "execution_count": 167,
   "metadata": {},
   "outputs": [
    {
     "data": {
      "text/plain": [
       "<AxesSubplot:>"
      ]
     },
     "execution_count": 167,
     "metadata": {},
     "output_type": "execute_result"
    },
    {
     "data": {
      "image/png": "[encoded data removed]",
      "text/plain": [
       "<Figure size 432x288 with 1 Axes>"
      ]
     },
     "metadata": {
      "needs_background": "light"
     },
     "output_type": "display_data"
    }
   ],
   "source": [
    "df[['nSites','nUniqueSites']].boxplot()"
   ]
  },
  {
   "cell_type": "markdown",
   "metadata": {},
   "source": [
    "Method of Handling Outliers\n",
    "1. Removing Them\n",
    "2. Imputing Them -> assign the upper whisker or lower whisker value\n",
    "3. Using Robust ML Algo\n",
    "4. Regularisation"
   ]
  },
  {
   "cell_type": "code",
   "execution_count": 158,
   "metadata": {},
   "outputs": [
    {
     "data": {
      "text/plain": [
       "nSites          3.0\n",
       "nUniqueSites    3.0\n",
       "dtype: float64"
      ]
     },
     "execution_count": 158,
     "metadata": {},
     "output_type": "execute_result"
    }
   ],
   "source": [
    "q1 = df[['nSites','nUniqueSites']].quantile(0.25)\n",
    "q3 = df[['nSites','nUniqueSites']].quantile(0.75)\n",
    "\n",
    "IQR = q3 - q1\n",
    "IQR"
   ]
  },
  {
   "cell_type": "code",
   "execution_count": 159,
   "metadata": {},
   "outputs": [],
   "source": [
    "upper = q3 + 1.5*IQR\n",
    "lower = q1 - 1.5*IQR"
   ]
  },
  {
   "cell_type": "code",
   "execution_count": 166,
   "metadata": {},
   "outputs": [
    {
     "name": "stdout",
     "output_type": "stream",
     "text": [
      "FInding for Column nSites\n",
      "FInding for Column nUniqueSites\n"
     ]
    }
   ],
   "source": [
    "for col in ['nSites','nUniqueSites']:\n",
    "    print (\"FInding for Column\", col)\n",
    "    df.loc[ (df[col] > upper[col]), col ] = upper[col]\n",
    "    df.loc[ (df[col] < lower[col]), col ] = lower[col]"
   ]
  },
  {
   "cell_type": "markdown",
   "metadata": {},
   "source": [
    "### 3. EDA"
   ]
  },
  {
   "cell_type": "code",
   "execution_count": 173,
   "metadata": {},
   "outputs": [],
   "source": [
    "df['target'] = (df.user_id != 0)"
   ]
  },
  {
   "cell_type": "code",
   "execution_count": 180,
   "metadata": {},
   "outputs": [
    {
     "data": {
      "text/plain": [
       "Index(['browser', 'os', 'locale', 'user_id', 'gender', 'location', 'sites',\n",
       "       'time', 'date', 'nSites', 'nUniqueSites', 'totalLenght', 'firstSite',\n",
       "       'City', 'Country', 'year', 'month', 'day', 'secondSite', 'thirdSite',\n",
       "       'target'],\n",
       "      dtype='object')"
      ]
     },
     "execution_count": 180,
     "metadata": {},
     "output_type": "execute_result"
    }
   ],
   "source": [
    "df.columns"
   ]
  },
  {
   "cell_type": "code",
   "execution_count": 235,
   "metadata": {},
   "outputs": [],
   "source": [
    "websitebyjoe = np.unique(df[ df.target == 0][['firstSite','secondSite','thirdSite']].values).tolist()\n",
    "df.loc[~df.firstSite.isin(websitebyjoe), 'firstSite'] = \"anything\"\n",
    "df.loc[~df.secondSite.isin(websitebyjoe), 'secondSite'] = \"anything\"\n",
    "df.loc[~df.thirdSite.isin(websitebyjoe), 'thirdSite'] = \"anything\""
   ]
  },
  {
   "cell_type": "code",
   "execution_count": 236,
   "metadata": {},
   "outputs": [
    {
     "data": {
      "text/plain": [
       "anything           103921\n",
       "mail.google.com      8926\n",
       "lenta.ru             8466\n",
       "youtube.com          7704\n",
       "vk.com               7598\n",
       "slack.com            6882\n",
       "wikipedia.org        5756\n",
       "amazon.com           5504\n",
       "toptal.com           5243\n",
       "Name: firstSite, dtype: int64"
      ]
     },
     "execution_count": 236,
     "metadata": {},
     "output_type": "execute_result"
    }
   ],
   "source": [
    "df.firstSite.value_counts()"
   ]
  },
  {
   "cell_type": "code",
   "execution_count": 237,
   "metadata": {},
   "outputs": [],
   "source": [
    "X = df[['browser', 'os', 'locale', 'gender', 'nSites', 'nUniqueSites', 'totalLenght',\n",
    "       'City', 'Country', 'year', 'month', 'day', 'firstSite','secondSite', 'thirdSite',]]\n",
    "y = df.target"
   ]
  },
  {
   "cell_type": "code",
   "execution_count": 238,
   "metadata": {},
   "outputs": [
    {
     "data": {
      "text/plain": [
       "<AxesSubplot:ylabel='target'>"
      ]
     },
     "execution_count": 238,
     "metadata": {},
     "output_type": "execute_result"
    },
    {
     "data": {
      "image/png": "[encoded data removed]",
      "text/plain": [
       "<Figure size 432x288 with 1 Axes>"
      ]
     },
     "metadata": {},
     "output_type": "display_data"
    }
   ],
   "source": [
    "y.value_counts().plot.pie(autopct = \"%.2f\")"
   ]
  },
  {
   "cell_type": "markdown",
   "metadata": {},
   "source": [
    "Handling Target Imbalance"
   ]
  },
  {
   "cell_type": "markdown",
   "metadata": {},
   "source": [
    "### Label Encoding"
   ]
  },
  {
   "cell_type": "code",
   "execution_count": 239,
   "metadata": {},
   "outputs": [],
   "source": [
    "from sklearn.preprocessing import LabelEncoder, OneHotEncoder\n",
    "\n",
    "lbl = LabelEncoder()\n",
    "ohe = OneHotEncoder()"
   ]
  },
  {
   "cell_type": "code",
   "execution_count": 240,
   "metadata": {},
   "outputs": [],
   "source": [
    "# X.info()"
   ]
  },
  {
   "cell_type": "code",
   "execution_count": 241,
   "metadata": {},
   "outputs": [],
   "source": [
    "def _label_encode( df ):\n",
    "    for col in df.iloc[:,:-3].select_dtypes(include=['object']).columns:\n",
    "        print ( col )\n",
    "        df[col] = lbl.fit_transform( df[col])\n",
    "    return df"
   ]
  },
  {
   "cell_type": "code",
   "execution_count": 242,
   "metadata": {},
   "outputs": [
    {
     "name": "stdout",
     "output_type": "stream",
     "text": [
      "browser\n",
      "os\n",
      "locale\n",
      "gender\n",
      "City\n",
      "Country\n"
     ]
    }
   ],
   "source": [
    "X = _label_encode( X )"
   ]
  },
  {
   "cell_type": "code",
   "execution_count": 243,
   "metadata": {},
   "outputs": [],
   "source": [
    "X = X.dropna()"
   ]
  },
  {
   "cell_type": "code",
   "execution_count": 223,
   "metadata": {},
   "outputs": [
    {
     "data": {
      "text/plain": [
       "(370,)"
      ]
     },
     "execution_count": 223,
     "metadata": {},
     "output_type": "execute_result"
    }
   ],
   "source": [
    "np.unique(X.iloc[:,-3:].values).shape"
   ]
  },
  {
   "cell_type": "code",
   "execution_count": 246,
   "metadata": {},
   "outputs": [],
   "source": [
    "count = 0\n",
    "site_dict = {}\n",
    "for i in np.unique(X.iloc[:,-3:].values).tolist():\n",
    "    site_dict[i] = count\n",
    "    count += 1 #count = count + 1"
   ]
  },
  {
   "cell_type": "code",
   "execution_count": 252,
   "metadata": {},
   "outputs": [],
   "source": [
    "X['firstSite'] = X.firstSite.map( site_dict )\n",
    "X['secondSite'] = X.secondSite.map( site_dict )\n",
    "X['thirdSite'] = X.thirdSite.map( site_dict )"
   ]
  },
  {
   "cell_type": "code",
   "execution_count": 253,
   "metadata": {},
   "outputs": [
    {
     "data": {
      "text/html": [
       "<div>\n",
       "<style scoped>\n",
       "    .dataframe tbody tr th:only-of-type {\n",
       "        vertical-align: middle;\n",
       "    }\n",
       "\n",
       "    .dataframe tbody tr th {\n",
       "        vertical-align: top;\n",
       "    }\n",
       "\n",
       "    .dataframe thead th {\n",
       "        text-align: right;\n",
       "    }\n",
       "</style>\n",
       "<table border=\"1\" class=\"dataframe\">\n",
       "  <thead>\n",
       "    <tr style=\"text-align: right;\">\n",
       "      <th></th>\n",
       "      <th>browser</th>\n",
       "      <th>os</th>\n",
       "      <th>locale</th>\n",
       "      <th>gender</th>\n",
       "      <th>nSites</th>\n",
       "      <th>nUniqueSites</th>\n",
       "      <th>totalLenght</th>\n",
       "      <th>City</th>\n",
       "      <th>Country</th>\n",
       "      <th>year</th>\n",
       "      <th>month</th>\n",
       "      <th>day</th>\n",
       "      <th>firstSite</th>\n",
       "      <th>secondSite</th>\n",
       "      <th>thirdSite</th>\n",
       "    </tr>\n",
       "  </thead>\n",
       "  <tbody>\n",
       "    <tr>\n",
       "      <th>0</th>\n",
       "      <td>0</td>\n",
       "      <td>5</td>\n",
       "      <td>1</td>\n",
       "      <td>1</td>\n",
       "      <td>14.0</td>\n",
       "      <td>12.0</td>\n",
       "      <td>1839</td>\n",
       "      <td>19</td>\n",
       "      <td>2</td>\n",
       "      <td>2016</td>\n",
       "      <td>8</td>\n",
       "      <td>14</td>\n",
       "      <td>2</td>\n",
       "      <td>2</td>\n",
       "      <td>6</td>\n",
       "    </tr>\n",
       "    <tr>\n",
       "      <th>1</th>\n",
       "      <td>0</td>\n",
       "      <td>3</td>\n",
       "      <td>15</td>\n",
       "      <td>0</td>\n",
       "      <td>12.0</td>\n",
       "      <td>12.0</td>\n",
       "      <td>1430</td>\n",
       "      <td>0</td>\n",
       "      <td>10</td>\n",
       "      <td>2016</td>\n",
       "      <td>5</td>\n",
       "      <td>31</td>\n",
       "      <td>1</td>\n",
       "      <td>0</td>\n",
       "      <td>1</td>\n",
       "    </tr>\n",
       "    <tr>\n",
       "      <th>2</th>\n",
       "      <td>0</td>\n",
       "      <td>3</td>\n",
       "      <td>0</td>\n",
       "      <td>1</td>\n",
       "      <td>12.0</td>\n",
       "      <td>10.0</td>\n",
       "      <td>1142</td>\n",
       "      <td>12</td>\n",
       "      <td>1</td>\n",
       "      <td>2019</td>\n",
       "      <td>4</td>\n",
       "      <td>15</td>\n",
       "      <td>4</td>\n",
       "      <td>4</td>\n",
       "      <td>3</td>\n",
       "    </tr>\n",
       "    <tr>\n",
       "      <th>3</th>\n",
       "      <td>2</td>\n",
       "      <td>2</td>\n",
       "      <td>7</td>\n",
       "      <td>0</td>\n",
       "      <td>15.0</td>\n",
       "      <td>15.0</td>\n",
       "      <td>1648</td>\n",
       "      <td>1</td>\n",
       "      <td>11</td>\n",
       "      <td>2018</td>\n",
       "      <td>3</td>\n",
       "      <td>25</td>\n",
       "      <td>0</td>\n",
       "      <td>1</td>\n",
       "      <td>1</td>\n",
       "    </tr>\n",
       "    <tr>\n",
       "      <th>4</th>\n",
       "      <td>1</td>\n",
       "      <td>0</td>\n",
       "      <td>16</td>\n",
       "      <td>0</td>\n",
       "      <td>11.0</td>\n",
       "      <td>11.0</td>\n",
       "      <td>1045</td>\n",
       "      <td>1</td>\n",
       "      <td>11</td>\n",
       "      <td>2018</td>\n",
       "      <td>9</td>\n",
       "      <td>8</td>\n",
       "      <td>6</td>\n",
       "      <td>3</td>\n",
       "      <td>2</td>\n",
       "    </tr>\n",
       "  </tbody>\n",
       "</table>\n",
       "</div>"
      ],
      "text/plain": [
       "   browser  os  locale  gender  nSites  nUniqueSites  totalLenght  City  \\\n",
       "0        0   5       1       1    14.0          12.0         1839    19   \n",
       "1        0   3      15       0    12.0          12.0         1430     0   \n",
       "2        0   3       0       1    12.0          10.0         1142    12   \n",
       "3        2   2       7       0    15.0          15.0         1648     1   \n",
       "4        1   0      16       0    11.0          11.0         1045     1   \n",
       "\n",
       "   Country  year  month  day  firstSite  secondSite  thirdSite  \n",
       "0        2  2016      8   14          2           2          6  \n",
       "1       10  2016      5   31          1           0          1  \n",
       "2        1  2019      4   15          4           4          3  \n",
       "3       11  2018      3   25          0           1          1  \n",
       "4       11  2018      9    8          6           3          2  "
      ]
     },
     "execution_count": 253,
     "metadata": {},
     "output_type": "execute_result"
    }
   ],
   "source": [
    "X.head()"
   ]
  },
  {
   "cell_type": "markdown",
   "metadata": {},
   "source": [
    "### 4. Feature Selection\n",
    "\n",
    "**What is Feature Selection ?**\n",
    "\n",
    "Selecting only those features which are important in predictice modelling or other required task is done in this step known as Feature Selection. There are different ways of feature selection among different variables. \n",
    "\n",
    "| Feature/Response | Continous | Categorical\n",
    "|----------|------------|-------|\n",
    "| Continous |Correlation | LDA |\n",
    "| Categorical | Anova | Chi2 Test | "
   ]
  },
  {
   "cell_type": "markdown",
   "metadata": {},
   "source": [
    "Lets day that user_id is the target variable. our Target user is user_id = 0 (joe). Rest all are other users(1)."
   ]
  },
  {
   "cell_type": "code",
   "execution_count": 257,
   "metadata": {},
   "outputs": [],
   "source": [
    "from sklearn.feature_selection import chi2"
   ]
  },
  {
   "cell_type": "code",
   "execution_count": 258,
   "metadata": {},
   "outputs": [],
   "source": [
    "chi_val, p_val = chi2( X, y )"
   ]
  },
  {
   "cell_type": "code",
   "execution_count": 259,
   "metadata": {},
   "outputs": [
    {
     "data": {
      "text/plain": [
       "<BarContainer object of 15 artists>"
      ]
     },
     "execution_count": 259,
     "metadata": {},
     "output_type": "execute_result"
    },
    {
     "data": {
      "image/png": "[encoded data removed]",
      "text/plain": [
       "<Figure size 1080x288 with 1 Axes>"
      ]
     },
     "metadata": {
      "needs_background": "light"
     },
     "output_type": "display_data"
    }
   ],
   "source": [
    "plt.figure( figsize = (15,4 ))\n",
    "plt.bar( x = X.columns, height = p_val)"
   ]
  },
  {
   "cell_type": "code",
   "execution_count": 260,
   "metadata": {},
   "outputs": [],
   "source": [
    "X.drop(labels = ['year','day','month','nSites'], axis = 1, inplace = True)"
   ]
  },
  {
   "cell_type": "markdown",
   "metadata": {},
   "source": [
    "#### Scaling and Normalisation"
   ]
  },
  {
   "cell_type": "code",
   "execution_count": 264,
   "metadata": {},
   "outputs": [
    {
     "data": {
      "text/plain": [
       "<AxesSubplot:ylabel='Frequency'>"
      ]
     },
     "execution_count": 264,
     "metadata": {},
     "output_type": "execute_result"
    },
    {
     "data": {
      "image/png": "[encoded data removed]",
      "text/plain": [
       "<Figure size 432x288 with 1 Axes>"
      ]
     },
     "metadata": {
      "needs_background": "light"
     },
     "output_type": "display_data"
    }
   ],
   "source": [
    "X.totalLenght.plot.hist() # already normal distribution"
   ]
  },
  {
   "cell_type": "code",
   "execution_count": 288,
   "metadata": {},
   "outputs": [],
   "source": [
    "from sklearn.preprocessing import MinMaxScaler\n",
    "\n",
    "mlm = MinMaxScaler()"
   ]
  },
  {
   "cell_type": "code",
   "execution_count": 290,
   "metadata": {},
   "outputs": [],
   "source": [
    "X = mlm.fit_transform( X )"
   ]
  },
  {
   "cell_type": "markdown",
   "metadata": {},
   "source": [
    "### Handle the Target Imbalance\n",
    "\n",
    "1. Rnadom Oversampling and Undersampling\n",
    "2. SMOTE\n",
    "3. ADSYNE"
   ]
  },
  {
   "cell_type": "code",
   "execution_count": 297,
   "metadata": {},
   "outputs": [],
   "source": [
    "from imblearn.over_sampling import RandomOverSampler"
   ]
  },
  {
   "cell_type": "code",
   "execution_count": 298,
   "metadata": {},
   "outputs": [
    {
     "ename": "AttributeError",
     "evalue": "'RandomOverSampler' object has no attribute '_validate_data'",
     "output_type": "error",
     "traceback": [
      "\u001b[1;31m---------------------------------------------------------------------------\u001b[0m",
      "\u001b[1;31mAttributeError\u001b[0m                            Traceback (most recent call last)",
      "\u001b[1;32m~\\AppData\\Local\\Temp/ipykernel_18676/1738909213.py\u001b[0m in \u001b[0;36m<module>\u001b[1;34m\u001b[0m\n\u001b[0;32m      1\u001b[0m \u001b[0moversample\u001b[0m \u001b[1;33m=\u001b[0m \u001b[0mRandomOverSampler\u001b[0m\u001b[1;33m(\u001b[0m \u001b[0msampling_strategy\u001b[0m\u001b[1;33m=\u001b[0m\u001b[1;34m'minority'\u001b[0m\u001b[1;33m)\u001b[0m\u001b[1;33m\u001b[0m\u001b[1;33m\u001b[0m\u001b[0m\n\u001b[0;32m      2\u001b[0m \u001b[1;33m\u001b[0m\u001b[0m\n\u001b[1;32m----> 3\u001b[1;33m \u001b[0mX_over\u001b[0m\u001b[1;33m,\u001b[0m \u001b[0my_over\u001b[0m \u001b[1;33m=\u001b[0m \u001b[0moversample\u001b[0m\u001b[1;33m.\u001b[0m\u001b[0mfit_resample\u001b[0m\u001b[1;33m(\u001b[0m\u001b[0mX\u001b[0m\u001b[1;33m,\u001b[0m \u001b[0my\u001b[0m\u001b[1;33m)\u001b[0m\u001b[1;33m\u001b[0m\u001b[1;33m\u001b[0m\u001b[0m\n\u001b[0m",
      "\u001b[1;32md:\\anaconda3\\lib\\site-packages\\imblearn\\base.py\u001b[0m in \u001b[0;36mfit_resample\u001b[1;34m(self, X, y)\u001b[0m\n\u001b[0;32m     75\u001b[0m         \u001b[0mcheck_classification_targets\u001b[0m\u001b[1;33m(\u001b[0m\u001b[0my\u001b[0m\u001b[1;33m)\u001b[0m\u001b[1;33m\u001b[0m\u001b[1;33m\u001b[0m\u001b[0m\n\u001b[0;32m     76\u001b[0m         \u001b[0marrays_transformer\u001b[0m \u001b[1;33m=\u001b[0m \u001b[0mArraysTransformer\u001b[0m\u001b[1;33m(\u001b[0m\u001b[0mX\u001b[0m\u001b[1;33m,\u001b[0m \u001b[0my\u001b[0m\u001b[1;33m)\u001b[0m\u001b[1;33m\u001b[0m\u001b[1;33m\u001b[0m\u001b[0m\n\u001b[1;32m---> 77\u001b[1;33m         \u001b[0mX\u001b[0m\u001b[1;33m,\u001b[0m \u001b[0my\u001b[0m\u001b[1;33m,\u001b[0m \u001b[0mbinarize_y\u001b[0m \u001b[1;33m=\u001b[0m \u001b[0mself\u001b[0m\u001b[1;33m.\u001b[0m\u001b[0m_check_X_y\u001b[0m\u001b[1;33m(\u001b[0m\u001b[0mX\u001b[0m\u001b[1;33m,\u001b[0m \u001b[0my\u001b[0m\u001b[1;33m)\u001b[0m\u001b[1;33m\u001b[0m\u001b[1;33m\u001b[0m\u001b[0m\n\u001b[0m\u001b[0;32m     78\u001b[0m \u001b[1;33m\u001b[0m\u001b[0m\n\u001b[0;32m     79\u001b[0m         self.sampling_strategy_ = check_sampling_strategy(\n",
      "\u001b[1;32md:\\anaconda3\\lib\\site-packages\\imblearn\\over_sampling\\_random_over_sampler.py\u001b[0m in \u001b[0;36m_check_X_y\u001b[1;34m(self, X, y)\u001b[0m\n\u001b[0;32m    148\u001b[0m     \u001b[1;32mdef\u001b[0m \u001b[0m_check_X_y\u001b[0m\u001b[1;33m(\u001b[0m\u001b[0mself\u001b[0m\u001b[1;33m,\u001b[0m \u001b[0mX\u001b[0m\u001b[1;33m,\u001b[0m \u001b[0my\u001b[0m\u001b[1;33m)\u001b[0m\u001b[1;33m:\u001b[0m\u001b[1;33m\u001b[0m\u001b[1;33m\u001b[0m\u001b[0m\n\u001b[0;32m    149\u001b[0m         \u001b[0my\u001b[0m\u001b[1;33m,\u001b[0m \u001b[0mbinarize_y\u001b[0m \u001b[1;33m=\u001b[0m \u001b[0mcheck_target_type\u001b[0m\u001b[1;33m(\u001b[0m\u001b[0my\u001b[0m\u001b[1;33m,\u001b[0m \u001b[0mindicate_one_vs_all\u001b[0m\u001b[1;33m=\u001b[0m\u001b[1;32mTrue\u001b[0m\u001b[1;33m)\u001b[0m\u001b[1;33m\u001b[0m\u001b[1;33m\u001b[0m\u001b[0m\n\u001b[1;32m--> 150\u001b[1;33m         X, y = self._validate_data(\n\u001b[0m\u001b[0;32m    151\u001b[0m             \u001b[0mX\u001b[0m\u001b[1;33m,\u001b[0m\u001b[1;33m\u001b[0m\u001b[1;33m\u001b[0m\u001b[0m\n\u001b[0;32m    152\u001b[0m             \u001b[0my\u001b[0m\u001b[1;33m,\u001b[0m\u001b[1;33m\u001b[0m\u001b[1;33m\u001b[0m\u001b[0m\n",
      "\u001b[1;31mAttributeError\u001b[0m: 'RandomOverSampler' object has no attribute '_validate_data'"
     ]
    }
   ],
   "source": [
    "oversample = RandomOverSampler( sampling_strategy='minority')\n",
    "\n",
    "X_over, y_over = oversample.fit_resample(X, y)"
   ]
  },
  {
   "cell_type": "code",
   "execution_count": null,
   "metadata": {},
   "outputs": [],
   "source": []
  }
 ],
 "metadata": {
  "kernelspec": {
   "display_name": "Python 3 (ipykernel)",
   "language": "python",
   "name": "python3"
  },
  "language_info": {
   "codemirror_mode": {
    "name": "ipython",
    "version": 3
   },
   "file_extension": ".py",
   "mimetype": "text/x-python",
   "name": "python",
   "nbconvert_exporter": "python",
   "pygments_lexer": "ipython3",
   "version": "3.8.13"
  }
 },
 "nbformat": 4,
 "nbformat_minor": 1
}
