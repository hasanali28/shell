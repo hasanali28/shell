{
 "cells": [
  {
   "cell_type": "markdown",
   "metadata": {
    "_uuid": "9d7057b0f4ce0d2bb50bfea37c29ce0927cdf53f"
   },
   "source": [
    "> **Jupyter slideshow:** This notebook can be displayed as slides. To view it as a slideshow in your browser, run the following cell:\n",
    "\n",
    "> `> jupyter nbconvert [this_notebook.ipynb] --to slides --post serve`\n",
    " \n",
    "> To toggle off the slideshow cell formatting, click the `CellToolbar` button, then `View > Cell Toolbar > None`."
   ]
  },
  {
   "cell_type": "markdown",
   "metadata": {},
   "source": [
    "<img src=\"../images/shell-logo.png\" width=\"50\" height=\"50\" align=\"right\"/>\n",
    "\n",
    "<img src=\"../images/di.png\" width=\"50\" height=\"50\" align=\"right\"/>\n",
    "\n",
    "# Feature Engineering"
   ]
  },
  {
   "cell_type": "code",
   "execution_count": 12,
   "metadata": {},
   "outputs": [],
   "source": [
    "# ! jupyter nbconvert Python_intro.ipynb --to slides --post serve"
   ]
  },
  {
   "cell_type": "markdown",
   "metadata": {},
   "source": [
    "## Learning Objectives\n",
    "*In this lesson, we will go over the following:*\n",
    "\n",
    "- Introduction to Feature Engineering.\n",
    "- Application of Feature Engineering\n",
    "- Feature Engineering with Categorical Columns.\n",
    "- Feature Engineering with Numerical Columns.\n",
    "- Feaure Engineering with Business and Domain Understanding."
   ]
  },
  {
   "cell_type": "markdown",
   "metadata": {
    "_uuid": "9d7057b0f4ce0d2bb50bfea37c29ce0927cdf53f"
   },
   "source": [
    "## Introduction: Manual Feature Engineering\n",
    "\n",
    "In this notebook, we will explore making features by hand for a Dataset.\n",
    "\n",
    "- Manual feature engineering can be a tedious process (which is why we use automated feature engineering with featuretools!) and often relies on domain expertise. \n",
    "\n",
    "- Since we are limited to domain knowledge of diffirent fields and what makes a person likely to default, we will instead concentrate of getting as much info as possible into the final training dataframe. \n",
    "\n",
    "- The idea is that the model will then pick up on which features are important rather than us having to decide that. Basically, our approach is to make as many features as possible and then give them all to the model to use! Later, we can perform feature reduction using the feature importances from the model or other techniques such as PCA. "
   ]
  },
  {
   "cell_type": "code",
   "execution_count": 13,
   "metadata": {
    "_cell_guid": "b1076dfc-b9ad-4769-8c92-a6c4dae69d19",
    "_uuid": "8f2839f25d086af736a60e9eeb907d3b93b6e0e5"
   },
   "outputs": [],
   "source": [
    "# pandas and numpy for data manipulation\n",
    "import pandas as pd\n",
    "import numpy as np\n",
    "\n",
    "# matplotlib and seaborn for plotting\n",
    "import plotly.express as px\n",
    "import matplotlib.pyplot as plt\n",
    "import seaborn as sns\n",
    "\n",
    "# Suppress warnings from pandas\n",
    "import warnings\n",
    "warnings.filterwarnings('ignore')"
   ]
  },
  {
   "cell_type": "markdown",
   "metadata": {},
   "source": [
    "dataset.json"
   ]
  },
  {
   "cell_type": "code",
   "execution_count": null,
   "metadata": {
    "_uuid": "94bdea7d6198e5cf61f073c3c4d0386d5961b564",
    "collapsed": true
   },
   "outputs": [],
   "source": []
  }
 ],
 "metadata": {
  "kernelspec": {
   "display_name": "Python 3 (ipykernel)",
   "language": "python",
   "name": "python3"
  },
  "language_info": {
   "codemirror_mode": {
    "name": "ipython",
    "version": 3
   },
   "file_extension": ".py",
   "mimetype": "text/x-python",
   "name": "python",
   "nbconvert_exporter": "python",
   "pygments_lexer": "ipython3",
   "version": "3.8.13"
  }
 },
 "nbformat": 4,
 "nbformat_minor": 1
}
